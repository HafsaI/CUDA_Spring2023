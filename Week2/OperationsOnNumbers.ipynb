{
  "nbformat": 4,
  "nbformat_minor": 0,
  "metadata": {
    "colab": {
      "provenance": [],
      "authorship_tag": "ABX9TyPa8RHGjvP0jJKtlOLUHQn0",
      "include_colab_link": true
    },
    "kernelspec": {
      "name": "python3",
      "display_name": "Python 3"
    },
    "language_info": {
      "name": "python"
    },
    "accelerator": "GPU",
    "gpuClass": "standard"
  },
  "cells": [
    {
      "cell_type": "markdown",
      "metadata": {
        "id": "view-in-github",
        "colab_type": "text"
      },
      "source": [
        "<a href=\"https://colab.research.google.com/github/HafsaI/CUDA_Spring2023/blob/main/Week2/OperationsOnNumbers.ipynb\" target=\"_parent\"><img src=\"https://colab.research.google.com/assets/colab-badge.svg\" alt=\"Open In Colab\"/></a>"
      ]
    },
    {
      "cell_type": "code",
      "execution_count": null,
      "metadata": {
        "id": "7F5e6hc4DtCW"
      },
      "outputs": [],
      "source": []
    },
    {
      "cell_type": "code",
      "execution_count": 1,
      "metadata": {
        "colab": {
          "base_uri": "https://localhost:8080/"
        },
        "id": "LraUoP1_8GxK",
        "outputId": "2c14f913-88fa-4d08-abd9-b90f5ba4bbee"
      },
      "outputs": [
        {
          "output_type": "stream",
          "name": "stdout",
          "text": [
            "Looking in indexes: https://pypi.org/simple, https://us-python.pkg.dev/colab-wheels/public/simple/\n",
            "Collecting git+https://github.com/andreinechaev/nvcc4jupyter.git\n",
            "  Cloning https://github.com/andreinechaev/nvcc4jupyter.git to /tmp/pip-req-build-wz7d6o6g\n",
            "  Running command git clone --filter=blob:none --quiet https://github.com/andreinechaev/nvcc4jupyter.git /tmp/pip-req-build-wz7d6o6g\n",
            "  Resolved https://github.com/andreinechaev/nvcc4jupyter.git to commit aac710a35f52bb78ab34d2e52517237941399eff\n",
            "  Preparing metadata (setup.py) ... \u001b[?25l\u001b[?25hdone\n",
            "Building wheels for collected packages: NVCCPlugin\n",
            "  Building wheel for NVCCPlugin (setup.py) ... \u001b[?25l\u001b[?25hdone\n",
            "  Created wheel for NVCCPlugin: filename=NVCCPlugin-0.0.2-py3-none-any.whl size=4304 sha256=38bab01381fcb7fd9210801625ddf27e21a63c4bdfed9a7e7800e52653584b21\n",
            "  Stored in directory: /tmp/pip-ephem-wheel-cache-jnjzda54/wheels/f3/08/cc/e2b5b0e1c92df07dbb50a6f024a68ce090f5e7b2316b41756d\n",
            "Successfully built NVCCPlugin\n",
            "Installing collected packages: NVCCPlugin\n",
            "Successfully installed NVCCPlugin-0.0.2\n",
            "created output directory at /content/src\n",
            "Out bin /content/result.out\n"
          ]
        }
      ],
      "source": [
        "!pip install git+https://github.com/andreinechaev/nvcc4jupyter.git\n",
        "%load_ext nvcc_plugin"
      ]
    },
    {
      "cell_type": "code",
      "source": [
        "!nvidia-smi"
      ],
      "metadata": {
        "colab": {
          "base_uri": "https://localhost:8080/"
        },
        "id": "wFHZfa00FN6r",
        "outputId": "a45eb27b-3807-49eb-8e3e-79a428425ae6"
      },
      "execution_count": 2,
      "outputs": [
        {
          "output_type": "stream",
          "name": "stdout",
          "text": [
            "Fri Jan 20 07:29:15 2023       \n",
            "+-----------------------------------------------------------------------------+\n",
            "| NVIDIA-SMI 460.32.03    Driver Version: 460.32.03    CUDA Version: 11.2     |\n",
            "|-------------------------------+----------------------+----------------------+\n",
            "| GPU  Name        Persistence-M| Bus-Id        Disp.A | Volatile Uncorr. ECC |\n",
            "| Fan  Temp  Perf  Pwr:Usage/Cap|         Memory-Usage | GPU-Util  Compute M. |\n",
            "|                               |                      |               MIG M. |\n",
            "|===============================+======================+======================|\n",
            "|   0  Tesla T4            Off  | 00000000:00:04.0 Off |                    0 |\n",
            "| N/A   68C    P0    30W /  70W |      0MiB / 15109MiB |      0%      Default |\n",
            "|                               |                      |                  N/A |\n",
            "+-------------------------------+----------------------+----------------------+\n",
            "                                                                               \n",
            "+-----------------------------------------------------------------------------+\n",
            "| Processes:                                                                  |\n",
            "|  GPU   GI   CI        PID   Type   Process name                  GPU Memory |\n",
            "|        ID   ID                                                   Usage      |\n",
            "|=============================================================================|\n",
            "|  No running processes found                                                 |\n",
            "+-----------------------------------------------------------------------------+\n"
          ]
        }
      ]
    },
    {
      "cell_type": "code",
      "source": [
        "%%cu\n",
        "#include <stdio.h>\n",
        "inline cudaError_t checkCudaErr(cudaError_t err, const char* msg) {\n",
        "  if (err != cudaSuccess) {\n",
        "    fprintf(stderr, \"CUDA Runtime error at %s: %s\\n\", msg, cudaGetErrorString(err));\n",
        "  }\n",
        "  return err;\n",
        "}\n",
        "\n",
        "//kernel function definition\n",
        "__global__ void add(int *a , int *b, int *c) \n",
        "{\n",
        "  *c = *a + *b;\n",
        "}\n",
        "__global__ void sub(int *a , int *b, int *c) \n",
        "{\n",
        "  *c =  *b - *a;\n",
        "}\n",
        "\n",
        "int main() {\n",
        "  int h_a = 10;\n",
        "  int h_b = 20;\n",
        "  int h_c = 10 + 20;\n",
        "  int h_d = 20 - 10;\n",
        "\n",
        "  // need dynamic memory alocation on device\n",
        "  int *d_a, *d_b, *d_c;\n",
        "\n",
        "  //allocate memory on device, so need to store address of pointerin gpu, pointer ka address\n",
        "  cudaMalloc((void **)&d_a, sizeof(int));\n",
        "  cudaMalloc((void **)&d_b, sizeof(int));\n",
        "  cudaMalloc((void **)&d_c, sizeof(int));\n",
        "\n",
        "  //copy host data to device memory\n",
        "  cudaMemcpy(d_a, &h_a, sizeof(int), cudaMemcpyHostToDevice);\n",
        "  cudaMemcpy(d_b, &h_b, sizeof(int), cudaMemcpyHostToDevice);\n",
        "  \n",
        "  //call kernel\n",
        "  add<<<1,1>>>(d_a, d_b, d_c); \n",
        "  \n",
        "\n",
        "  checkCudaErr(cudaDeviceSynchronize(), \"Syncronization\");\n",
        "  checkCudaErr(cudaGetLastError(), \"GPU\");\n",
        "  printf(\"Addition Answer (on host): %d\\n\", h_c);\n",
        "  printf(\"Subtraction Answer (on host): %d\\n\", h_d);\n",
        "\n",
        "  //copy device data to host memory\n",
        "  cudaMemcpy(&h_c, d_c, sizeof(int), cudaMemcpyDeviceToHost);\n",
        "  printf(\"Addition Answer (on device): %d\\n\", h_c);\n",
        "\n",
        "  sub<<<1,1>>>(d_a, d_b, d_c); \n",
        "  cudaMemcpy(&h_d, d_c, sizeof(int), cudaMemcpyDeviceToHost);\n",
        "   printf(\"Subtraction Answer (on device): %d\\n\", h_d);\n",
        "\n",
        "  //release GPU memory\n",
        "  cudaFree(d_a);\n",
        "  cudaFree(d_b);\n",
        "  cudaFree(d_c);\n",
        "  \n",
        "  return 0;\n",
        "}"
      ],
      "metadata": {
        "colab": {
          "base_uri": "https://localhost:8080/"
        },
        "id": "pPxxyrjx8Hwz",
        "outputId": "9f5ce0cf-540b-4e04-8593-736f38a43fd6"
      },
      "execution_count": 7,
      "outputs": [
        {
          "output_type": "stream",
          "name": "stdout",
          "text": [
            "Addition Answer (on host): 30\n",
            "Subtraction Answer (on host): 10\n",
            "Addition Answer (on device): 30\n",
            "Subtraction Answer (on device): 10\n",
            "\n"
          ]
        }
      ]
    }
  ]
}