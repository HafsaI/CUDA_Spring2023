{
  "nbformat": 4,
  "nbformat_minor": 0,
  "metadata": {
    "colab": {
      "name": "SharedMemoryBitmap.ipynb",
      "provenance": [],
      "include_colab_link": true
    },
    "kernelspec": {
      "name": "python3",
      "display_name": "Python 3"
    },
    "language_info": {
      "name": "python"
    },
    "accelerator": "GPU",
    "gpuClass": "standard"
  },
  "cells": [
    {
      "cell_type": "markdown",
      "metadata": {
        "id": "view-in-github",
        "colab_type": "text"
      },
      "source": [
        "<a href=\"https://colab.research.google.com/github/HafsaI/CUDA_Spring2023/blob/main/Week5/SharedMemoryBitmap.ipynb\" target=\"_parent\"><img src=\"https://colab.research.google.com/assets/colab-badge.svg\" alt=\"Open In Colab\"/></a>"
      ]
    },
    {
      "cell_type": "code",
      "execution_count": 1,
      "metadata": {
        "colab": {
          "base_uri": "https://localhost:8080/"
        },
        "id": "-YhC1zB4-2ST",
        "outputId": "659002d5-d763-493c-bba8-75e08ebc5ea9"
      },
      "outputs": [
        {
          "output_type": "stream",
          "name": "stdout",
          "text": [
            "Looking in indexes: https://pypi.org/simple, https://us-python.pkg.dev/colab-wheels/public/simple/\n",
            "Collecting git+https://github.com/andreinechaev/nvcc4jupyter.git\n",
            "  Cloning https://github.com/andreinechaev/nvcc4jupyter.git to /tmp/pip-req-build-o891iavd\n",
            "  Running command git clone --filter=blob:none --quiet https://github.com/andreinechaev/nvcc4jupyter.git /tmp/pip-req-build-o891iavd\n",
            "  Resolved https://github.com/andreinechaev/nvcc4jupyter.git to commit aac710a35f52bb78ab34d2e52517237941399eff\n",
            "  Preparing metadata (setup.py) ... \u001b[?25l\u001b[?25hdone\n",
            "Building wheels for collected packages: NVCCPlugin\n",
            "  Building wheel for NVCCPlugin (setup.py) ... \u001b[?25l\u001b[?25hdone\n",
            "  Created wheel for NVCCPlugin: filename=NVCCPlugin-0.0.2-py3-none-any.whl size=4304 sha256=5900711a9a6cd6ae831221dd02ac2bdf65adf7da4ce52bc4122860ee18beee1b\n",
            "  Stored in directory: /tmp/pip-ephem-wheel-cache-s8p2wqdw/wheels/f3/08/cc/e2b5b0e1c92df07dbb50a6f024a68ce090f5e7b2316b41756d\n",
            "Successfully built NVCCPlugin\n",
            "Installing collected packages: NVCCPlugin\n",
            "Successfully installed NVCCPlugin-0.0.2\n",
            "created output directory at /content/src\n",
            "Out bin /content/result.out\n"
          ]
        }
      ],
      "source": [
        "!pip install git+https://github.com/andreinechaev/nvcc4jupyter.git\n",
        "%load_ext nvcc_plugin"
      ]
    },
    {
      "cell_type": "code",
      "source": [
        "%%cu\n",
        "#include <stdio.h>\n",
        "#include <cuda.h>\n",
        "\n",
        "const int WIDTH = 512;\n",
        "const int HEIGHT = 512;\n",
        "const int SIZE = WIDTH*HEIGHT;\n",
        "const int IMAGE_SIZE_IN_BYTES = SIZE * sizeof(unsigned char)*4;\n",
        "\n",
        "void load_raw_image(const char* imageName, unsigned char* pData)\n",
        "{\n",
        "\tFILE* fp = fopen(imageName, \"rb\");\n",
        "\tif (fp)\n",
        "\t{\n",
        "\t\tfread(pData, 1, SIZE, fp);\n",
        "\t\tfclose(fp);\n",
        "\t}\n",
        "\telse\n",
        "\t{\n",
        "\t\tputs(\"Cannot open raw image.\");\n",
        "\t}\n",
        "}\n",
        "\n",
        "void save_raw_image(const char* imageName, unsigned char* pData)\n",
        "{\n",
        "\tFILE* fp = fopen(imageName, \"wb\");\n",
        "\tif (fp)\n",
        "\t{\n",
        "\t\tfwrite(pData, 4*sizeof(unsigned char), SIZE, fp);\n",
        "\t\tfclose(fp);\n",
        "\t}\n",
        "\telse\n",
        "\t{\n",
        "\t\tputs(\"Cannot write raw image.\");\n",
        "\t}\n",
        "}\n",
        "\n",
        "__global__ void MakeImageKernel( unsigned char *ptr ) { \n",
        "\tint x = threadIdx.x + blockIdx.x * blockDim.x;\n",
        "\tint y = threadIdx.y + blockIdx.y * blockDim.y;\n",
        "\tint offset = x + y * blockDim.x * gridDim.x;\n",
        "\t__shared__ float shared[16][16];\n",
        "\tconst float period = 128.0f;\n",
        "\tconst float PI = 3.14159f;\n",
        "\tfloat dx = x - WIDTH/2;\n",
        "\tfloat dy = y - HEIGHT/2;\n",
        "\tshared[threadIdx.x][threadIdx.y] = 255 * (sinf(x*2.0f*PI/ period) + 1.0f) * (sinf(y*2.0f*PI/ period) + 1.0f) / 4.0f;\n",
        "\t//__syncthreads(); //uncomment this line to get correct output\n",
        "\tptr[offset*4+0]=0;\n",
        "\tptr[offset*4+1]=255 * (sqrt(dx*dx + dy*dy) <= HEIGHT/2);\n",
        "\tptr[offset*4+2]=0;\n",
        "\tptr[offset*4+3]=255;\n",
        "}\n",
        "\n",
        "\n",
        "\n",
        "int main(int argc, char** argv)\n",
        "{ \n",
        "\tunsigned char* host_bitmap = (unsigned char*)malloc(IMAGE_SIZE_IN_BYTES);\n",
        "\tunsigned char* dev_bitmap; \n",
        "\t\n",
        "\tcudaMalloc(&dev_bitmap, IMAGE_SIZE_IN_BYTES); \n",
        "  \n",
        "\tdim3    blocksGrid;\n",
        "\tdim3    threadsBlock(16, 16, 1);\n",
        "\tblocksGrid.x = ceil(WIDTH / 16.0);\n",
        "\tblocksGrid.y = ceil(HEIGHT / 16.0);\n",
        "\n",
        "\tMakeImageKernel << <blocksGrid, threadsBlock >> >(dev_bitmap);\n",
        "\n",
        "\tcudaMemcpy(host_bitmap, dev_bitmap, IMAGE_SIZE_IN_BYTES, cudaMemcpyDeviceToHost);\n",
        "\n",
        "\tsave_raw_image(\"/content/OutputImage.raw\", host_bitmap);\n",
        "\n",
        "\tfree(host_bitmap);\n",
        "\tcudaFree(&dev_bitmap); \n",
        "  cudaDeviceReset();\n",
        "\treturn 0;\n",
        "}"
      ],
      "metadata": {
        "colab": {
          "base_uri": "https://localhost:8080/"
        },
        "id": "N6OBCDHlAcrD",
        "outputId": "200d41e9-ab73-4e67-b141-4df616cf12eb"
      },
      "execution_count": 8,
      "outputs": [
        {
          "output_type": "stream",
          "name": "stdout",
          "text": [
            "\n"
          ]
        }
      ]
    },
    {
      "cell_type": "code",
      "source": [
        "import numpy as np\n",
        "\n",
        "#lets view our image \n",
        "fd = open('/content/OutputImage.raw', 'rb')\n",
        "rows = 512\n",
        "cols = 512\n",
        "f = np.fromfile(fd, dtype=np.uint8,count=rows*cols*4)\n",
        "im = f.reshape((rows, cols, 4)) #notice row, column format\n",
        "fd.close()\n",
        "\n",
        "from google.colab.patches import cv2_imshow\n",
        "#display image using cv2_imshow\n",
        "cv2_imshow(im)"
      ],
      "metadata": {
        "id": "NutvLs1j5wak",
        "colab": {
          "base_uri": "https://localhost:8080/",
          "height": 529
        },
        "outputId": "db88f686-6250-41d3-e903-3940d110eb72"
      },
      "execution_count": 9,
      "outputs": [
        {
          "output_type": "display_data",
          "data": {
            "text/plain": [
              "<PIL.Image.Image image mode=RGBA size=512x512 at 0x7FF01E08B8E0>"
            ],
            "image/png": "[encoded data removed]"
          },
          "metadata": {}
        }
      ]
    }
  ]
}